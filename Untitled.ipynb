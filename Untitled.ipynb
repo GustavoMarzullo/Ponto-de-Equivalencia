{
 "cells": [
  {
   "cell_type": "code",
   "execution_count": 18,
   "metadata": {},
   "outputs": [],
   "source": [
    "import numpy as np\n",
    "from scipy.signal import savgol_filter\n",
    "import scipy.stats as stats\n",
    "import math\n",
    "\n",
    "def sadeghi_behnia(x,n):\n",
    "    '''x é o vetor a ser suavizado e n é a ordem do filtro de savgol.'''\n",
    "    N_opt=5\n",
    "    N1=1\n",
    "    var=stats.tvar(x)\n",
    "    while N_opt != N_1:\n",
    "        N1=2*int(N_opt/2)+1\n",
    "        y=savgol_filter(x, N1, n)\n",
    "        dy=savgol_filter(np.diff(y,1),N1,n)\n",
    "        Y=np.diff(dy,3)\n",
    "        c1=stats.tmean(Y**2)\n",
    "        N_opt=(((2*(n+2))*(math.factorial(2*n+3))**2/((math.factorial(n+1))**2))*(var/c1))**(2*n+5)\n",
    "    return N_opt "
   ]
  },
  {
   "cell_type": "code",
   "execution_count": 14,
   "metadata": {},
   "outputs": [],
   "source": [
    " ph=np.array([ 1.67,  1.74,  1.83,  1.92,  2.03,  2.13,  2.26,  2.41,  2.6 ,\n",
    "        2.66,  2.72,  2.78,  2.85,  2.94,  3.06,  3.09,  3.14,  3.18,\n",
    "        3.25,  3.32,  3.37,  3.45,  3.54,  3.64,  3.75,  3.98,  4.08,\n",
    "        4.33,  4.8 ,  5.12,  5.25,  5.41,  5.51,  5.58,  5.67,  5.75,\n",
    "        5.89,  6.12,  6.4 ,  6.61,  6.79,  6.95,  7.12,  7.3 ,  7.5 ,\n",
    "        7.53,  7.54,  7.56,  7.58,  7.6 ,  7.62,  7.63,  7.65,  7.67,\n",
    "        7.69,  7.71,  7.73,  7.74,  7.76,  7.78,  7.81,  7.84,  7.87,\n",
    "        7.91,  7.95,  7.98,  8.03,  8.09,  8.13,  8.17,  8.21,  8.26,\n",
    "        8.32,  8.38,  8.45,  8.53,  8.68,  8.8 ,  8.95,  9.12,  9.28,\n",
    "        9.45,  9.6 ,  9.8 ,  9.92, 10.02, 10.16, 10.23, 10.31, 10.37,\n",
    "       10.43, 10.49, 10.57, 10.81, 10.97, 11.14, 11.25, 11.34])"
   ]
  },
  {
   "cell_type": "code",
   "execution_count": 20,
   "metadata": {},
   "outputs": [
    {
     "ename": "NameError",
     "evalue": "name 'N_1' is not defined",
     "output_type": "error",
     "traceback": [
      "\u001b[1;31m---------------------------------------------------------------------------\u001b[0m",
      "\u001b[1;31mNameError\u001b[0m                                 Traceback (most recent call last)",
      "\u001b[1;32m<ipython-input-20-567b471441d4>\u001b[0m in \u001b[0;36m<module>\u001b[1;34m\u001b[0m\n\u001b[1;32m----> 1\u001b[1;33m \u001b[0msadeghi_behnia\u001b[0m\u001b[1;33m(\u001b[0m\u001b[0mph\u001b[0m\u001b[1;33m,\u001b[0m\u001b[1;36m5\u001b[0m\u001b[1;33m)\u001b[0m\u001b[1;33m\u001b[0m\u001b[1;33m\u001b[0m\u001b[0m\n\u001b[0m",
      "\u001b[1;32m<ipython-input-18-452d9dd54c7f>\u001b[0m in \u001b[0;36msadeghi_behnia\u001b[1;34m(x, n)\u001b[0m\n\u001b[0;32m      9\u001b[0m     \u001b[0mN1\u001b[0m\u001b[1;33m=\u001b[0m\u001b[1;36m1\u001b[0m\u001b[1;33m\u001b[0m\u001b[1;33m\u001b[0m\u001b[0m\n\u001b[0;32m     10\u001b[0m     \u001b[0mvar\u001b[0m\u001b[1;33m=\u001b[0m\u001b[0mstats\u001b[0m\u001b[1;33m.\u001b[0m\u001b[0mtvar\u001b[0m\u001b[1;33m(\u001b[0m\u001b[0mx\u001b[0m\u001b[1;33m)\u001b[0m\u001b[1;33m\u001b[0m\u001b[1;33m\u001b[0m\u001b[0m\n\u001b[1;32m---> 11\u001b[1;33m     \u001b[1;32mwhile\u001b[0m \u001b[0mN_opt\u001b[0m \u001b[1;33m!=\u001b[0m \u001b[0mN_1\u001b[0m\u001b[1;33m:\u001b[0m\u001b[1;33m\u001b[0m\u001b[1;33m\u001b[0m\u001b[0m\n\u001b[0m\u001b[0;32m     12\u001b[0m         \u001b[0mN1\u001b[0m\u001b[1;33m=\u001b[0m\u001b[1;36m2\u001b[0m\u001b[1;33m*\u001b[0m\u001b[0mint\u001b[0m\u001b[1;33m(\u001b[0m\u001b[0mN_opt\u001b[0m\u001b[1;33m/\u001b[0m\u001b[1;36m2\u001b[0m\u001b[1;33m)\u001b[0m\u001b[1;33m+\u001b[0m\u001b[1;36m1\u001b[0m\u001b[1;33m\u001b[0m\u001b[1;33m\u001b[0m\u001b[0m\n\u001b[0;32m     13\u001b[0m         \u001b[0my\u001b[0m\u001b[1;33m=\u001b[0m\u001b[0msavgol_filter\u001b[0m\u001b[1;33m(\u001b[0m\u001b[0mx\u001b[0m\u001b[1;33m,\u001b[0m \u001b[0mN1\u001b[0m\u001b[1;33m,\u001b[0m \u001b[0mn\u001b[0m\u001b[1;33m)\u001b[0m\u001b[1;33m\u001b[0m\u001b[1;33m\u001b[0m\u001b[0m\n",
      "\u001b[1;31mNameError\u001b[0m: name 'N_1' is not defined"
     ]
    }
   ],
   "source": [
    "sadeghi_behnia(ph,5)"
   ]
  }
 ],
 "metadata": {
  "kernelspec": {
   "display_name": "Python 3",
   "language": "python",
   "name": "python3"
  },
  "language_info": {
   "codemirror_mode": {
    "name": "ipython",
    "version": 3
   },
   "file_extension": ".py",
   "mimetype": "text/x-python",
   "name": "python",
   "nbconvert_exporter": "python",
   "pygments_lexer": "ipython3",
   "version": "3.8.3"
  }
 },
 "nbformat": 4,
 "nbformat_minor": 4
}
